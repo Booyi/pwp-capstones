{
 "cells": [
  {
   "cell_type": "markdown",
   "metadata": {},
   "source": [
    "# Preamble: A Brand New Jay\n",
    "\n",
    "After an eventful season on season 8 of *A Brand New Jay*, the 3 remaining contestants were invited to Jay Stacksby's private island for the last three episodes. When the day of filming the finale came Mr. Stacksby was found with one of his Professional Series 8-inch Chef Knives plunged through his heart! After the initial investigation highlighted that the film crew all lived in a separate house on the other side of the island, it was concluded that only the three contestants were near enough to Stacksby in order to commit a crime. At the scene of the crime, a letter was left. Here are the contents of that letter:\n",
    "\n",
    "> You may call me heartless, a killer, a monster, a murderer, but I'm still NOTHING compared to the villian that Jay was. This whole contest was a sham, an elaborate plot to shame the contestants and feed Jay's massive, massive ego. SURE you think you know him! You've seen him smiling for the cameras, laughing, joking, telling stories, waving his money around like a prop but off camera he was a sinister beast, a cruel cruel taskmaster, he treated all of us like slaves, like cattle, like animals! Do you remember Lindsay, she was the first to go, he called her such horrible things that she cried all night, keeping up all up, crying, crying, and more crying, he broke her with his words. I miss my former cast members, all of them very much. And we had to live with him, live in his home, live in his power, deal with his crazy demands. AND FOR WHAT! DID YOU KNOW THAT THE PRIZE ISN'T REAL? He never intended to marry one of us! The carrot on the stick was gone, all that was left was stick, he told us last night that we were all a terrible terrible disappointment and none of us would ever amount to anything, and that regardless of who won the contest he would never speak to any of us again! It's definitely the things like this you can feel in your gut how wrong he is! Well I showed him, he got what he deserved all right, I showed him, I showed him the person I am! I wasn't going to be pushed around any longer, and I wasn't going to let him go on pretending that he was some saint when all he was was a sick sick twisted man who deserved every bit of what he got. The fans need to know, Jay Stacksby is a vile amalgamation of all things evil and bad and the world is a better place without him.\n",
    "\n",
    "Pretty sinister stuff! Luckily, in addition to this bold-faced admission, we have the introduction letters of the three contestants. Maybe there is a way to use this information to determine who the author of this murder letter is?\n",
    "\n",
    "Myrtle Beech's introduction letter:\n",
    "> Salutations. My name? Myrtle. Myrtle Beech. I am a woman of simple tastes. I enjoy reading, thinking, and doing my taxes. I entered this competition because I want a serious relationship. I want a commitment. The last man I dated was too whimsical. He wanted to go on dates that had no plan. No end goal. Sometimes we would just end up wandering the streets after dinner. He called it a \"walk\". A \"walk\" with no destination. Can you imagine? I like every action I take to have a measurable effect. When I see a movie, I like to walk away with insights that I did not have before. When I take a bike ride, there better be a worthy destination at the end of the bike path. Jay seems frivolous at times. This worries me. However, it is my staunch belief that one does not make and keep money without having a modicum of discipline. As such, I am hopeful. I will now list three things I cannot live without. Water. Emery boards. Dogs. Thank you for the opportunity to introduce myself. I look forward to the competition. \n",
    "\n",
    "Lily Trebuchet's introduction letter:\n",
    "> Hi, I'm Lily Trebuchet from East Egg, Long Island. I love cats, hiking, and curling up under a warm blanket with a book. So they gave this little questionnaire to use for our bios so lets get started. What are some of my least favorite household chores? Dishes, oh yes it's definitely the dishes, I just hate doing them, don't you? Who is your favorite actor and why? Hmm, that's a hard one, but I think recently I'll have to go with Michael B. Jordan, every bit of that man is handsome, HANDSOME! Do you remember seeing him shirtless? I can't believe what he does for the cameras! Okay okay next question, what is your perfect date? Well it starts with a nice dinner at a delicious but small restaurant, you know like one of those places where the owner is in the back and comes out to talk to you and ask you how your meal was. My favorite form of art? Another hard one, but I think I'll have to go with music, music you can feel in your whole body and it is electrifying and best of all, you can dance to it! Okay final question, let's see, What are three things you cannot live without? Well first off, my beautiful, beautiful cat Jerry, he is my heart and spirit animal. Second is pasta, definitely pasta, and the third I think is my family, I love all of them very much and they support me in everything I do. I know Jay Stacksby is a handsome man and all of us want to be the first to walk down the aisle with him, but I think he might truly be the one for me. Okay that's it for the bio, I hope you have fun watching the show! \n",
    "\n",
    "Gregg T Fishy's introduction letter:\n",
    "\n",
    "> A good day to you all, I am Gregg T Fishy, of the Fishy Enterprise fortune. I am 37 years young. An adventurous spirit and I've never lost my sense of childlike wonder. I do love to be in the backyard gardening and I have the most extraordinary time when I'm fishing. Fishing for what, you might ask? Why, fishing for compliments of course! I have a stunning pair of radiant blue eyes. They will pierce the soul of anyone who dare gaze upon my countenance. I quite enjoy going on long jaunts through garden paths and short walks through greenhouses. I hope that Jay will be as absolutely interesting as he appears on the television. I find that he has some of the most curious tastes in style and humor. When I'm out and about I quite enjoy hearing tales that instill in my heart of hearts the fascination that beguiles my every day life. Every fiber of my being scintillates and vascillates with extreme pleasure during one of these charming anecdotes and significantly pleases my beautiful personage. I cannot wait to enjoy being on A Brand New Jay. It certainly seems like a grand time to explore life and love."
   ]
  },
  {
   "cell_type": "markdown",
   "metadata": {},
   "source": [
    "## Saving The Different Examples as Variables\n",
    "\n",
    "First let's create variables to hold the text data in! Save the muder note as a string in a variable called `murder_note`. Save Lily Trebuchet's introduction into `lily_trebuchet_intro`. Save Myrtle Beech's introduction into `myrtle_beech_intro`. Save Gregg T Fishy's introduction into `gregg_t_fishy_intro`."
   ]
  },
  {
   "cell_type": "code",
   "execution_count": 279,
   "metadata": {},
   "outputs": [],
   "source": [
    "murder_note = '''You may call me heartless, a killer, a monster, a murderer, but I'm still NOTHING compared to the villian that Jay was. This whole contest was a sham, an elaborate plot to shame the contestants and feed Jay's massive, massive ego. SURE you think you know him! You've seen him smiling for the cameras, laughing, joking, telling stories, waving his money around like a prop but off camera he was a sinister beast, a cruel cruel taskmaster, he treated all of us like slaves, like cattle, like animals! Do you remember Lindsay, she was the first to go, he called her such horrible things that she cried all night, keeping up all up, crying, crying, and more crying, he broke her with his words. I miss my former cast members, all of them very much. And we had to live with him, live in his home, live in his power, deal with his crazy demands. AND FOR WHAT! DID YOU KNOW THAT THE PRIZE ISN'T REAL? He never intended to marry one of us! The carrot on the stick was gone, all that was left was stick, he told us last night that we were all a terrible terrible disappointment and none of us would ever amount to anything, and that regardless of who won the contest he would never speak to any of us again! It's definitely the things like this you can feel in your gut how wrong he is! Well I showed him, he got what he deserved all right, I showed him, I showed him the person I am! I wasn't going to be pushed around any longer, and I wasn't going to let him go on pretending that he was some saint when all he was was a sick sick twisted man who deserved every bit of what he got. The fans need to know, Jay Stacksby is a vile amalgamation of all things evil and bad and the world is a better place without him.'''"
   ]
  },
  {
   "cell_type": "code",
   "execution_count": 280,
   "metadata": {},
   "outputs": [],
   "source": [
    "lily_trebuchet_intro = '''Hi, I'm Lily Trebuchet from East Egg, Long Island. I love cats, hiking, and curling up under a warm blanket with a book. So they gave this little questionnaire to use for our bios so lets get started. What are some of my least favorite household chores? Dishes, oh yes it's definitely the dishes, I just hate doing them, don't you? Who is your favorite actor and why? Hmm, that's a hard one, but I think recently I'll have to go with Michael B. Jordan, every bit of that man is handsome, HANDSOME! Do you remember seeing him shirtless? I can't believe what he does for the cameras! Okay okay next question, what is your perfect date? Well it starts with a nice dinner at a delicious but small restaurant, you know like one of those places where the owner is in the back and comes out to talk to you and ask you how your meal was. My favorite form of art? Another hard one, but I think I'll have to go with music, music you can feel in your whole body and it is electrifying and best of all, you can dance to it! Okay final question, let's see, What are three things you cannot live without? Well first off, my beautiful, beautiful cat Jerry, he is my heart and spirit animal. Second is pasta, definitely pasta, and the third I think is my family, I love all of them very much and they support me in everything I do. I know Jay Stacksby is a handsome man and all of us want to be the first to walk down the aisle with him, but I think he might truly be the one for me. Okay that's it for the bio, I hope you have fun watching the show!'''"
   ]
  },
  {
   "cell_type": "code",
   "execution_count": 281,
   "metadata": {},
   "outputs": [],
   "source": [
    "myrtle_beech_intro = '''Salutations. My name? Myrtle. Myrtle Beech. I am a woman of simple tastes. I enjoy reading, thinking, and doing my taxes. I entered this competition because I want a serious relationship. I want a commitment. The last man I dated was too whimsical. He wanted to go on dates that had no plan. No end goal. Sometimes we would just end up wandering the streets after dinner. He called it a \"walk\". A \"walk\" with no destination. Can you imagine? I like every action I take to have a measurable effect. When I see a movie, I like to walk away with insights that I did not have before. When I take a bike ride, there better be a worthy destination at the end of the bike path. Jay seems frivolous at times. This worries me. However, it is my staunch belief that one does not make and keep money without having a modicum of discipline. As such, I am hopeful. I will now list three things I cannot live without. Water. Emery boards. Dogs. Thank you for the opportunity to introduce myself. I look forward to the competition.\n",
    "\n",
    "'''"
   ]
  },
  {
   "cell_type": "code",
   "execution_count": 282,
   "metadata": {},
   "outputs": [],
   "source": [
    "gregg_t_fishy_intro = '''A good day to you all, I am Gregg T Fishy, of the Fishy Enterprise fortune. I am 37 years young. An adventurous spirit and I've never lost my sense of childlike wonder. I do love to be in the backyard gardening and I have the most extraordinary time when I'm fishing. Fishing for what, you might ask? Why, fishing for compliments of course! I have a stunning pair of radiant blue eyes. They will pierce the soul of anyone who dare gaze upon my countenance. I quite enjoy going on long jaunts through garden paths and short walks through greenhouses. I hope that Jay will be as absolutely interesting as he appears on the television. I find that he has some of the most curious tastes in style and humor. When I'm out and about I quite enjoy hearing tales that instill in my heart of hearts the fascination that beguiles my every day life. Every fiber of my being scintillates and vascillates with extreme pleasure during one of these charming anecdotes and significantly pleases my beautiful personage. I cannot wait to enjoy being on A Brand New Jay. It certainly seems like a grand time to explore life and love.'''"
   ]
  },
  {
   "cell_type": "code",
   "execution_count": 283,
   "metadata": {},
   "outputs": [
    {
     "name": "stdout",
     "output_type": "stream",
     "text": [
      "You may call me heartless, a killer, a monster, a murderer, but I'm still NOTHING compared to the villian that Jay was. This whole contest was a sham, an elaborate plot to shame the contestants and feed Jay's massive, massive ego. SURE you think you know him! You've seen him smiling for the cameras, laughing, joking, telling stories, waving his money around like a prop but off camera he was a sinister beast, a cruel cruel taskmaster, he treated all of us like slaves, like cattle, like animals! Do you remember Lindsay, she was the first to go, he called her such horrible things that she cried all night, keeping up all up, crying, crying, and more crying, he broke her with his words. I miss my former cast members, all of them very much. And we had to live with him, live in his home, live in his power, deal with his crazy demands. AND FOR WHAT! DID YOU KNOW THAT THE PRIZE ISN'T REAL? He never intended to marry one of us! The carrot on the stick was gone, all that was left was stick, he told us last night that we were all a terrible terrible disappointment and none of us would ever amount to anything, and that regardless of who won the contest he would never speak to any of us again! It's definitely the things like this you can feel in your gut how wrong he is! Well I showed him, he got what he deserved all right, I showed him, I showed him the person I am! I wasn't going to be pushed around any longer, and I wasn't going to let him go on pretending that he was some saint when all he was was a sick sick twisted man who deserved every bit of what he got. The fans need to know, Jay Stacksby is a vile amalgamation of all things evil and bad and the world is a better place without him.\n"
     ]
    }
   ],
   "source": [
    "print(murder_note)"
   ]
  },
  {
   "cell_type": "markdown",
   "metadata": {},
   "source": [
    "## The First Indicator: Sentence Length\n",
    "\n",
    "Perhaps some meaningful data can first be gleaned from these text examples if we measure how long the average sentence length is. Different authors have different patterns of written speech, so this could be very useful in tracking down the killer.\n",
    "\n",
    "Write a function `get_average_sentence_length` that takes some `text` as an argument. This function should return the average length of a sentence in the text.\n",
    "\n",
    "Hint (highlight this hint in order to reveal it): \n",
    "<font color=\"white\">Use your knowledge of _string methods_ to create a list of all of the sentences in a text, called **sentences_in_text**. \n",
    "Further break up each **sentences_in_text** into a list of words and save the _length_ of that list of words to a new list that contains all the sentence lengths, called **sentence_lengths**. Take the average of all of the sentence lengths by adding them all together and dividing by the number of sentences (which should be the same as the length of the **sentence_lengths**).\n",
    "\n",
    "Remember sentences can end with more than one kind of punctuation, you might find it easiest to use **.replace()** so you only have to split on one punctuation mark. Remember **.replace()** doesn't modify the string itself, it returns a new string!</font>"
   ]
  },
  {
   "cell_type": "code",
   "execution_count": 284,
   "metadata": {},
   "outputs": [],
   "source": [
    "def get_average_sentence_length(text):\n",
    "    sentences_in_text = text.replace('!', '.')\n",
    "    sentences_in_text = sentences_in_text.replace('?', '.')\n",
    "    sentences_in_text = sentences_in_text.split('.')\n",
    "    \n",
    "    sentence_lengths = []\n",
    "    for sentence in sentences_in_text:\n",
    "        words = sentence.split(' ')\n",
    "        length_of_sentence = len(words)\n",
    "        sentence_lengths.append(length_of_sentence)\n",
    "    \n",
    "    total_lengths = 0\n",
    "    for length in sentence_lengths:\n",
    "        total_lengths = total_lengths + length \n",
    "        \n",
    "    \n",
    "    return total_lengths / len(sentence_lengths)\n",
    "    \n",
    "    "
   ]
  },
  {
   "cell_type": "code",
   "execution_count": 302,
   "metadata": {},
   "outputs": [
    {
     "name": "stdout",
     "output_type": "stream",
     "text": [
      "16.0\n",
      "7.482758620689655\n",
      "13.5625\n"
     ]
    }
   ],
   "source": [
    "\n",
    "print(get_average_sentence_length(lily_trebuchet_intro))\n",
    "print(get_average_sentence_length(myrtle_beech_intro))\n",
    "print(get_average_sentence_length(gregg_t_fishy_intro))"
   ]
  },
  {
   "cell_type": "markdown",
   "metadata": {},
   "source": [
    "## Creating The Definition for Our Model\n",
    "\n",
    "Now that we have a metric we want to save and data that is coupled with that metric, it might be time to create our data type. Let's define a class called `TextSample` with a constructor. The constructor should take two arguments: `text` and `author`. `text` should be saved as `self.raw_text`. Call `get_average_sentence_length` with the raw text and save it to `self.average_sentence_length`. You should save the author of the text as `self.author`.\n",
    "\n",
    "Additionally, define a string representation for the model. If you print a `TextSample` it should render:\n",
    " - The author's name\n",
    " - The average sentence length\n",
    " \n",
    "This will be your main class for the problem at hand. All later instruction to update `TextSample` should be done in the code block below. After updating `TextSample`, click on the `Cell` option in the Jupyter Notebook main menu above, then click `Run All` to rerun the cells from top to bottom. If you need to restart your Jupyter Notebook either run the cells below first or move the `TextSample` class definition & instantiation cells to the bottom."
   ]
  },
  {
   "cell_type": "code",
   "execution_count": 303,
   "metadata": {},
   "outputs": [],
   "source": [
    "class TextSample:\n",
    "    \n",
    "    def __init__(self, text, author):\n",
    "        self.raw_text = text\n",
    "        self.author = author\n",
    "        \n",
    "        self.average_sentence_length = get_average_sentence_length(text)\n",
    "        self.prepared_text = prepare_text(text)\n",
    "        self.word_count_frequency = build_frequency_table(self.prepared_text)\n",
    "        self.ngram_frequency = build_frequency_table(ngram_creator(self.prepared_text, 2))\n",
    "        \n",
    "    def __repr__(self):\n",
    "        return str(self.author) + ' ' + str(self.average_sentence_length)\n",
    "    "
   ]
  },
  {
   "cell_type": "code",
   "execution_count": 304,
   "metadata": {},
   "outputs": [
    {
     "name": "stdout",
     "output_type": "stream",
     "text": [
      "Greg 13.5625\n"
     ]
    }
   ],
   "source": [
    "text_sample = TextSample(gregg_t_fishy_intro, 'Greg')\n",
    "print(text_sample)"
   ]
  },
  {
   "cell_type": "markdown",
   "metadata": {},
   "source": [
    "### Creating our TextSample Instances\n",
    "\n",
    "Now create a `TextSample` object for each of the samples of text that we have.\n",
    " - `murderer_sample` for the murderer's note.\n",
    " - `lily_sample` for Lily Trebuchet's note.\n",
    " - `myrtle_sample` for Myrtle Beech's note.\n",
    " - `gregg_sample` for Gregg T Fishy's note.\n",
    " \n",
    "Print out each one after instantiating them."
   ]
  },
  {
   "cell_type": "code",
   "execution_count": 305,
   "metadata": {},
   "outputs": [
    {
     "name": "stdout",
     "output_type": "stream",
     "text": [
      "Unknown 21.625 Lily 16.0 Myrtle 7.482758620689655 Gregg 13.5625\n"
     ]
    }
   ],
   "source": [
    "murderer_sample = TextSample(murder_note, 'Unknown')\n",
    "lily_sample = TextSample(lily_trebuchet_intro, 'Lily')\n",
    "myrtle_sample = TextSample(myrtle_beech_intro, 'Myrtle')\n",
    "gregg_sample = TextSample(gregg_t_fishy_intro, 'Gregg')\n",
    "print(murderer_sample, lily_sample, myrtle_sample, gregg_sample)"
   ]
  },
  {
   "cell_type": "markdown",
   "metadata": {},
   "source": [
    "## Cleaning Our Data\n",
    "\n",
    "We want to compare the word choice and usage between the samples, but sentences make our text data fairly messy. In order to analyze the different messages fairly, we'll need to remove all the punctuation and uppercase letters from the samples.\n",
    "\n",
    "Create a function called `prepare_text` that takes a single parameter `text`, makes the text entirely lowercase, removes all the punctuation and returns a list of the words in the text in order.\n",
    "\n",
    "For example: `\"Where did you go, friend? We nearly saw each other.\"` would become `['where', 'did', 'you', 'go', 'friend', 'we', 'nearly', 'saw', 'each', 'other']`."
   ]
  },
  {
   "cell_type": "markdown",
   "metadata": {},
   "source": [
    "Update the constructor for `TextSample` to save the prepared text as `self.prepared_text`."
   ]
  },
  {
   "cell_type": "code",
   "execution_count": 306,
   "metadata": {},
   "outputs": [],
   "source": [
    "def prepare_text(text):\n",
    "    \n",
    "    prepared_text = text.lower()\n",
    "    for s in ['.', ',', '!', '?']:\n",
    "        prepared_text = prepared_text.replace(s, '')\n",
    "    return prepared_text.split(' ')\n"
   ]
  },
  {
   "cell_type": "code",
   "execution_count": 290,
   "metadata": {},
   "outputs": [
    {
     "data": {
      "text/plain": [
       "['a',\n",
       " 'good',\n",
       " 'day',\n",
       " 'to',\n",
       " 'you',\n",
       " 'all',\n",
       " 'i',\n",
       " 'am',\n",
       " 'gregg',\n",
       " 't',\n",
       " 'fishy',\n",
       " 'of',\n",
       " 'the',\n",
       " 'fishy',\n",
       " 'enterprise',\n",
       " 'fortune',\n",
       " 'i',\n",
       " 'am',\n",
       " '37',\n",
       " 'years',\n",
       " 'young',\n",
       " 'an',\n",
       " 'adventurous',\n",
       " 'spirit',\n",
       " 'and',\n",
       " \"i've\",\n",
       " 'never',\n",
       " 'lost',\n",
       " 'my',\n",
       " 'sense',\n",
       " 'of',\n",
       " 'childlike',\n",
       " 'wonder',\n",
       " 'i',\n",
       " 'do',\n",
       " 'love',\n",
       " 'to',\n",
       " 'be',\n",
       " 'in',\n",
       " 'the',\n",
       " 'backyard',\n",
       " 'gardening',\n",
       " 'and',\n",
       " 'i',\n",
       " 'have',\n",
       " 'the',\n",
       " 'most',\n",
       " 'extraordinary',\n",
       " 'time',\n",
       " 'when',\n",
       " \"i'm\",\n",
       " 'fishing',\n",
       " 'fishing',\n",
       " 'for',\n",
       " 'what',\n",
       " 'you',\n",
       " 'might',\n",
       " 'ask',\n",
       " 'why',\n",
       " 'fishing',\n",
       " 'for',\n",
       " 'compliments',\n",
       " 'of',\n",
       " 'course',\n",
       " 'i',\n",
       " 'have',\n",
       " 'a',\n",
       " 'stunning',\n",
       " 'pair',\n",
       " 'of',\n",
       " 'radiant',\n",
       " 'blue',\n",
       " 'eyes',\n",
       " 'they',\n",
       " 'will',\n",
       " 'pierce',\n",
       " 'the',\n",
       " 'soul',\n",
       " 'of',\n",
       " 'anyone',\n",
       " 'who',\n",
       " 'dare',\n",
       " 'gaze',\n",
       " 'upon',\n",
       " 'my',\n",
       " 'countenance',\n",
       " 'i',\n",
       " 'quite',\n",
       " 'enjoy',\n",
       " 'going',\n",
       " 'on',\n",
       " 'long',\n",
       " 'jaunts',\n",
       " 'through',\n",
       " 'garden',\n",
       " 'paths',\n",
       " 'and',\n",
       " 'short',\n",
       " 'walks',\n",
       " 'through',\n",
       " 'greenhouses',\n",
       " 'i',\n",
       " 'hope',\n",
       " 'that',\n",
       " 'jay',\n",
       " 'will',\n",
       " 'be',\n",
       " 'as',\n",
       " 'absolutely',\n",
       " 'interesting',\n",
       " 'as',\n",
       " 'he',\n",
       " 'appears',\n",
       " 'on',\n",
       " 'the',\n",
       " 'television',\n",
       " 'i',\n",
       " 'find',\n",
       " 'that',\n",
       " 'he',\n",
       " 'has',\n",
       " 'some',\n",
       " 'of',\n",
       " 'the',\n",
       " 'most',\n",
       " 'curious',\n",
       " 'tastes',\n",
       " 'in',\n",
       " 'style',\n",
       " 'and',\n",
       " 'humor',\n",
       " 'when',\n",
       " \"i'm\",\n",
       " 'out',\n",
       " 'and',\n",
       " 'about',\n",
       " 'i',\n",
       " 'quite',\n",
       " 'enjoy',\n",
       " 'hearing',\n",
       " 'tales',\n",
       " 'that',\n",
       " 'instill',\n",
       " 'in',\n",
       " 'my',\n",
       " 'heart',\n",
       " 'of',\n",
       " 'hearts',\n",
       " 'the',\n",
       " 'fascination',\n",
       " 'that',\n",
       " 'beguiles',\n",
       " 'my',\n",
       " 'every',\n",
       " 'day',\n",
       " 'life',\n",
       " 'every',\n",
       " 'fiber',\n",
       " 'of',\n",
       " 'my',\n",
       " 'being',\n",
       " 'scintillates',\n",
       " 'and',\n",
       " 'vascillates',\n",
       " 'with',\n",
       " 'extreme',\n",
       " 'pleasure',\n",
       " 'during',\n",
       " 'one',\n",
       " 'of',\n",
       " 'these',\n",
       " 'charming',\n",
       " 'anecdotes',\n",
       " 'and',\n",
       " 'significantly',\n",
       " 'pleases',\n",
       " 'my',\n",
       " 'beautiful',\n",
       " 'personage',\n",
       " 'i',\n",
       " 'cannot',\n",
       " 'wait',\n",
       " 'to',\n",
       " 'enjoy',\n",
       " 'being',\n",
       " 'on',\n",
       " 'a',\n",
       " 'brand',\n",
       " 'new',\n",
       " 'jay',\n",
       " 'it',\n",
       " 'certainly',\n",
       " 'seems',\n",
       " 'like',\n",
       " 'a',\n",
       " 'grand',\n",
       " 'time',\n",
       " 'to',\n",
       " 'explore',\n",
       " 'life',\n",
       " 'and',\n",
       " 'love']"
      ]
     },
     "execution_count": 290,
     "metadata": {},
     "output_type": "execute_result"
    }
   ],
   "source": [
    "prepare_text(gregg_t_fishy_intro)"
   ]
  },
  {
   "cell_type": "markdown",
   "metadata": {},
   "source": [
    "## Building A Frequency Table\n",
    "\n",
    "Now we want to see which words were most frequently used in each of the samples. Create a function called `build_frequency_table`. It takes in a list called `corpus` and creates a dictionary called `frequency_table`. For every element in `corpus` the value `frequency_table[element]` should be equal to the number of times that element appears in `corpus`. For example the input `['do', 'you', 'see', 'what', 'i', 'see']` would create the frequency table `{'what': 1, 'you': 1, 'see' 2, 'i': 1}`."
   ]
  },
  {
   "cell_type": "code",
   "execution_count": 307,
   "metadata": {},
   "outputs": [],
   "source": [
    "def build_frequency_table(corpus):\n",
    "    frequency_table = {}\n",
    "    \n",
    "    for word in corpus:\n",
    "        if word not in frequency_table:\n",
    "            frequency_table.update({word: 1})\n",
    "        else:\n",
    "            frequency_table[word] += 1 \n",
    "    \n",
    "    return frequency_table\n",
    "    "
   ]
  },
  {
   "cell_type": "code",
   "execution_count": 308,
   "metadata": {},
   "outputs": [
    {
     "data": {
      "text/plain": [
       "{'a': 4,\n",
       " 'good': 1,\n",
       " 'day': 2,\n",
       " 'to': 4,\n",
       " 'you': 2,\n",
       " 'all': 1,\n",
       " 'i': 10,\n",
       " 'am': 2,\n",
       " 'gregg': 1,\n",
       " 't': 1,\n",
       " 'fishy': 2,\n",
       " 'of': 9,\n",
       " 'the': 7,\n",
       " 'enterprise': 1,\n",
       " 'fortune': 1,\n",
       " '37': 1,\n",
       " 'years': 1,\n",
       " 'young': 1,\n",
       " 'an': 1,\n",
       " 'adventurous': 1,\n",
       " 'spirit': 1,\n",
       " 'and': 8,\n",
       " \"i've\": 1,\n",
       " 'never': 1,\n",
       " 'lost': 1,\n",
       " 'my': 6,\n",
       " 'sense': 1,\n",
       " 'childlike': 1,\n",
       " 'wonder': 1,\n",
       " 'do': 1,\n",
       " 'love': 2,\n",
       " 'be': 2,\n",
       " 'in': 3,\n",
       " 'backyard': 1,\n",
       " 'gardening': 1,\n",
       " 'have': 2,\n",
       " 'most': 2,\n",
       " 'extraordinary': 1,\n",
       " 'time': 2,\n",
       " 'when': 2,\n",
       " \"i'm\": 2,\n",
       " 'fishing': 3,\n",
       " 'for': 2,\n",
       " 'what': 1,\n",
       " 'might': 1,\n",
       " 'ask': 1,\n",
       " 'why': 1,\n",
       " 'compliments': 1,\n",
       " 'course': 1,\n",
       " 'stunning': 1,\n",
       " 'pair': 1,\n",
       " 'radiant': 1,\n",
       " 'blue': 1,\n",
       " 'eyes': 1,\n",
       " 'they': 1,\n",
       " 'will': 2,\n",
       " 'pierce': 1,\n",
       " 'soul': 1,\n",
       " 'anyone': 1,\n",
       " 'who': 1,\n",
       " 'dare': 1,\n",
       " 'gaze': 1,\n",
       " 'upon': 1,\n",
       " 'countenance': 1,\n",
       " 'quite': 2,\n",
       " 'enjoy': 3,\n",
       " 'going': 1,\n",
       " 'on': 3,\n",
       " 'long': 1,\n",
       " 'jaunts': 1,\n",
       " 'through': 2,\n",
       " 'garden': 1,\n",
       " 'paths': 1,\n",
       " 'short': 1,\n",
       " 'walks': 1,\n",
       " 'greenhouses': 1,\n",
       " 'hope': 1,\n",
       " 'that': 4,\n",
       " 'jay': 2,\n",
       " 'as': 2,\n",
       " 'absolutely': 1,\n",
       " 'interesting': 1,\n",
       " 'he': 2,\n",
       " 'appears': 1,\n",
       " 'television': 1,\n",
       " 'find': 1,\n",
       " 'has': 1,\n",
       " 'some': 1,\n",
       " 'curious': 1,\n",
       " 'tastes': 1,\n",
       " 'style': 1,\n",
       " 'humor': 1,\n",
       " 'out': 1,\n",
       " 'about': 1,\n",
       " 'hearing': 1,\n",
       " 'tales': 1,\n",
       " 'instill': 1,\n",
       " 'heart': 1,\n",
       " 'hearts': 1,\n",
       " 'fascination': 1,\n",
       " 'beguiles': 1,\n",
       " 'every': 2,\n",
       " 'life': 2,\n",
       " 'fiber': 1,\n",
       " 'being': 2,\n",
       " 'scintillates': 1,\n",
       " 'vascillates': 1,\n",
       " 'with': 1,\n",
       " 'extreme': 1,\n",
       " 'pleasure': 1,\n",
       " 'during': 1,\n",
       " 'one': 1,\n",
       " 'these': 1,\n",
       " 'charming': 1,\n",
       " 'anecdotes': 1,\n",
       " 'significantly': 1,\n",
       " 'pleases': 1,\n",
       " 'beautiful': 1,\n",
       " 'personage': 1,\n",
       " 'cannot': 1,\n",
       " 'wait': 1,\n",
       " 'brand': 1,\n",
       " 'new': 1,\n",
       " 'it': 1,\n",
       " 'certainly': 1,\n",
       " 'seems': 1,\n",
       " 'like': 1,\n",
       " 'grand': 1,\n",
       " 'explore': 1}"
      ]
     },
     "execution_count": 308,
     "metadata": {},
     "output_type": "execute_result"
    }
   ],
   "source": [
    "build_frequency_table(prepare_text(gregg_t_fishy_intro))"
   ]
  },
  {
   "cell_type": "markdown",
   "metadata": {},
   "source": [
    "## The Second Indicator: Favorite Words\n",
    "\n",
    "Use `build_frequency_table` with the prepared text to create a frequency table that counts how frequently all the words in each text sample appears. Call these functions in the constructor for `TextSample` and assign the word frequency table to a value called `self.word_count_frequency`."
   ]
  },
  {
   "cell_type": "markdown",
   "metadata": {},
   "source": [
    "## The Third Indicator: N-Grams\n",
    "\n",
    "An <a href='https://en.wikipedia.org/wiki/N-gram' target=\"_blank\">n-gram</a> is a text analysis technique used for pattern recognition and applicable throughout lingusitics. We're going to use n-grams to find who uses similar word-pairs to the murderer, and we think it's going to make our evidence strong enough to conclusively find the killer.\n",
    "\n",
    "Create a function called `ngram_creator` that takes a parameter `text_list`, a treated in-order list of the words in a text sample. `ngram_creator` should return a list of all adjacent pairs of words, styled as strings with a space in the center.\n",
    "\n",
    "For instance, calling `ngram_creator` with the input `['what', 'in', 'the', 'world', 'is', 'going', 'on']`\n",
    "Should produce the output `['what in', 'in the', 'the world', 'world is', 'is going', 'going on']`.\n",
    "\n",
    "These are two-word n-grams."
   ]
  },
  {
   "cell_type": "code",
   "execution_count": 309,
   "metadata": {},
   "outputs": [],
   "source": [
    "def ngram_creator(text_list, n):\n",
    "    ngrams = []\n",
    " \n",
    "    for num in range(0, len(text_list)-n+1):\n",
    "        ngram = ' '.join(text_list[num:num + n])\n",
    "        ngrams.append(ngram)\n",
    " \n",
    "    return ngrams"
   ]
  },
  {
   "cell_type": "code",
   "execution_count": 310,
   "metadata": {},
   "outputs": [
    {
     "data": {
      "text/plain": [
       "['a good',\n",
       " 'good day',\n",
       " 'day to',\n",
       " 'to you',\n",
       " 'you all',\n",
       " 'all i',\n",
       " 'i am',\n",
       " 'am gregg',\n",
       " 'gregg t',\n",
       " 't fishy',\n",
       " 'fishy of',\n",
       " 'of the',\n",
       " 'the fishy',\n",
       " 'fishy enterprise',\n",
       " 'enterprise fortune',\n",
       " 'fortune i',\n",
       " 'i am',\n",
       " 'am 37',\n",
       " '37 years',\n",
       " 'years young',\n",
       " 'young an',\n",
       " 'an adventurous',\n",
       " 'adventurous spirit',\n",
       " 'spirit and',\n",
       " \"and i've\",\n",
       " \"i've never\",\n",
       " 'never lost',\n",
       " 'lost my',\n",
       " 'my sense',\n",
       " 'sense of',\n",
       " 'of childlike',\n",
       " 'childlike wonder',\n",
       " 'wonder i',\n",
       " 'i do',\n",
       " 'do love',\n",
       " 'love to',\n",
       " 'to be',\n",
       " 'be in',\n",
       " 'in the',\n",
       " 'the backyard',\n",
       " 'backyard gardening',\n",
       " 'gardening and',\n",
       " 'and i',\n",
       " 'i have',\n",
       " 'have the',\n",
       " 'the most',\n",
       " 'most extraordinary',\n",
       " 'extraordinary time',\n",
       " 'time when',\n",
       " \"when i'm\",\n",
       " \"i'm fishing\",\n",
       " 'fishing fishing',\n",
       " 'fishing for',\n",
       " 'for what',\n",
       " 'what you',\n",
       " 'you might',\n",
       " 'might ask',\n",
       " 'ask why',\n",
       " 'why fishing',\n",
       " 'fishing for',\n",
       " 'for compliments',\n",
       " 'compliments of',\n",
       " 'of course',\n",
       " 'course i',\n",
       " 'i have',\n",
       " 'have a',\n",
       " 'a stunning',\n",
       " 'stunning pair',\n",
       " 'pair of',\n",
       " 'of radiant',\n",
       " 'radiant blue',\n",
       " 'blue eyes',\n",
       " 'eyes they',\n",
       " 'they will',\n",
       " 'will pierce',\n",
       " 'pierce the',\n",
       " 'the soul',\n",
       " 'soul of',\n",
       " 'of anyone',\n",
       " 'anyone who',\n",
       " 'who dare',\n",
       " 'dare gaze',\n",
       " 'gaze upon',\n",
       " 'upon my',\n",
       " 'my countenance',\n",
       " 'countenance i',\n",
       " 'i quite',\n",
       " 'quite enjoy',\n",
       " 'enjoy going',\n",
       " 'going on',\n",
       " 'on long',\n",
       " 'long jaunts',\n",
       " 'jaunts through',\n",
       " 'through garden',\n",
       " 'garden paths',\n",
       " 'paths and',\n",
       " 'and short',\n",
       " 'short walks',\n",
       " 'walks through',\n",
       " 'through greenhouses',\n",
       " 'greenhouses i',\n",
       " 'i hope',\n",
       " 'hope that',\n",
       " 'that jay',\n",
       " 'jay will',\n",
       " 'will be',\n",
       " 'be as',\n",
       " 'as absolutely',\n",
       " 'absolutely interesting',\n",
       " 'interesting as',\n",
       " 'as he',\n",
       " 'he appears',\n",
       " 'appears on',\n",
       " 'on the',\n",
       " 'the television',\n",
       " 'television i',\n",
       " 'i find',\n",
       " 'find that',\n",
       " 'that he',\n",
       " 'he has',\n",
       " 'has some',\n",
       " 'some of',\n",
       " 'of the',\n",
       " 'the most',\n",
       " 'most curious',\n",
       " 'curious tastes',\n",
       " 'tastes in',\n",
       " 'in style',\n",
       " 'style and',\n",
       " 'and humor',\n",
       " 'humor when',\n",
       " \"when i'm\",\n",
       " \"i'm out\",\n",
       " 'out and',\n",
       " 'and about',\n",
       " 'about i',\n",
       " 'i quite',\n",
       " 'quite enjoy',\n",
       " 'enjoy hearing',\n",
       " 'hearing tales',\n",
       " 'tales that',\n",
       " 'that instill',\n",
       " 'instill in',\n",
       " 'in my',\n",
       " 'my heart',\n",
       " 'heart of',\n",
       " 'of hearts',\n",
       " 'hearts the',\n",
       " 'the fascination',\n",
       " 'fascination that',\n",
       " 'that beguiles',\n",
       " 'beguiles my',\n",
       " 'my every',\n",
       " 'every day',\n",
       " 'day life',\n",
       " 'life every',\n",
       " 'every fiber',\n",
       " 'fiber of',\n",
       " 'of my',\n",
       " 'my being',\n",
       " 'being scintillates',\n",
       " 'scintillates and',\n",
       " 'and vascillates',\n",
       " 'vascillates with',\n",
       " 'with extreme',\n",
       " 'extreme pleasure',\n",
       " 'pleasure during',\n",
       " 'during one',\n",
       " 'one of',\n",
       " 'of these',\n",
       " 'these charming',\n",
       " 'charming anecdotes',\n",
       " 'anecdotes and',\n",
       " 'and significantly',\n",
       " 'significantly pleases',\n",
       " 'pleases my',\n",
       " 'my beautiful',\n",
       " 'beautiful personage',\n",
       " 'personage i',\n",
       " 'i cannot',\n",
       " 'cannot wait',\n",
       " 'wait to',\n",
       " 'to enjoy',\n",
       " 'enjoy being',\n",
       " 'being on',\n",
       " 'on a',\n",
       " 'a brand',\n",
       " 'brand new',\n",
       " 'new jay',\n",
       " 'jay it',\n",
       " 'it certainly',\n",
       " 'certainly seems',\n",
       " 'seems like',\n",
       " 'like a',\n",
       " 'a grand',\n",
       " 'grand time',\n",
       " 'time to',\n",
       " 'to explore',\n",
       " 'explore life',\n",
       " 'life and',\n",
       " 'and love']"
      ]
     },
     "execution_count": 310,
     "metadata": {},
     "output_type": "execute_result"
    }
   ],
   "source": [
    "ngram_creator(prepare_text(gregg_t_fishy_intro), 2)"
   ]
  },
  {
   "cell_type": "markdown",
   "metadata": {},
   "source": [
    "Use `ngram_creator` along with the prepared text to create a list of all the two-word ngrams in each `TextSample`. Use `build_frequency_table` to tabulate the frequency of each ngram. In the constructor for `TextSample` save this frequency table as `self.ngram_frequency`."
   ]
  },
  {
   "cell_type": "markdown",
   "metadata": {},
   "source": [
    "## Comparing Two Frequency Tables\n",
    "\n",
    "We want to know how similar two frequency tables are, let's write a function that computes the comparison between two frequency tables and scores them based on similarity.\n",
    "\n",
    "Write a function called `frequency_comparison` that takes two parameters, `table1` and `table2`. It should define two local variables, `appearances` and `mutual_appearances`. \n",
    "\n",
    "Iterate through `table1`'s keys and check if `table2` has the same key defined. If it is, compare the two values for the key -- the smaller value should get added to `mutual_appearances` and the larger should get added to `appearances`. If the key doesn't exist in `table2` the value for the key in `table1` should be added to `appearances`.\n",
    "\n",
    "Remember afterwards to iterate through all of `table2`'s keys that aren't in `table1` and add those to `appearances` as well.\n",
    "\n",
    "Return a frequency comparison score equal to the mutual appearances divided by the total appearances."
   ]
  },
  {
   "cell_type": "code",
   "execution_count": 295,
   "metadata": {},
   "outputs": [],
   "source": [
    "def frequency_comparison(table1, table2):\n",
    "    appearances = 0\n",
    "    mutual_appearances = 0\n",
    "    \n",
    "    for k in table1.keys():\n",
    "        if k in table2:\n",
    "            smaller = min(table1[k], table2[k])\n",
    "            larger = max(table1[k], table2[k])\n",
    "            mutual_appearances += smaller\n",
    "            appearances += larger\n",
    "        else:\n",
    "            appearances += table1[k]\n",
    "            \n",
    "    for k in table2.keys():\n",
    "        if k not in table1:\n",
    "            appearances += table2[k]\n",
    "            \n",
    "    return mutual_appearances / appearances\n",
    "        \n",
    "    "
   ]
  },
  {
   "cell_type": "code",
   "execution_count": 311,
   "metadata": {},
   "outputs": [
    {
     "data": {
      "text/plain": [
       "0.01171875"
      ]
     },
     "execution_count": 311,
     "metadata": {},
     "output_type": "execute_result"
    }
   ],
   "source": [
    "n1 = build_frequency_table(ngram_creator(prepare_text(myrtle_beech_intro), 2))\n",
    "n2 = build_frequency_table(ngram_creator(prepare_text(murder_note), 2))\n",
    "frequency_comparison(n1, n2)"
   ]
  },
  {
   "cell_type": "markdown",
   "metadata": {},
   "source": [
    "## Comparing Average Sentence Length\n",
    "\n",
    "In order to calculate the change between the average sentence lengths of two `TextSamples` we're going to use the formula for the percent difference.\n",
    "\n",
    "Write a function called `percent_difference` that returns the percent difference as calculated from the following formula:\n",
    "\n",
    "$$\\frac{|\\ value1 - value2\\ |}{\\frac{value1 + value2}{2}}$$\n",
    "\n",
    "In the numerator is the absolute value (use `abs()`) of the two values subtracted from each other. In the denominator is the average of the two values (value1 + value2 divided by two)."
   ]
  },
  {
   "cell_type": "code",
   "execution_count": 297,
   "metadata": {},
   "outputs": [],
   "source": [
    "def percent_difference(value1, value2):\n",
    "    if value1 == 0.0 and value2 == 0.0:\n",
    "        return 0.0\n",
    "    \n",
    "    return abs(value1 - value2) / ((value1 + value2) / 2.0)"
   ]
  },
  {
   "cell_type": "code",
   "execution_count": 315,
   "metadata": {},
   "outputs": [
    {
     "data": {
      "text/plain": [
       "0.6666666666666666"
      ]
     },
     "execution_count": 315,
     "metadata": {},
     "output_type": "execute_result"
    }
   ],
   "source": [
    "percent_difference(111.0, 222.0)"
   ]
  },
  {
   "cell_type": "markdown",
   "metadata": {},
   "source": [
    "## Scoring Similarity with All Three Indicators\n",
    "\n",
    "We want to figure out who did it, so let's use all three of the indicators we built to score text similarity. Define a function `find_text_similarity` that takes two `TextSample` arguments and returns a float between 0 and 1 where 0 means completely different and 1 means the same exact sample. You can evaluate the similarity by the following criteria:\n",
    "\n",
    "- Calculate the percent difference of their average sentence length using `percent_difference`. Save that into a variable called `sentence_length_difference`. Since we want to find how _similar_ the two passages are calculate the inverse of `sentence_length_difference` by using the formula `abs(1 - sentence_length_difference)`. Save that into a variable called `sentence_length_similarity`.\n",
    "- Calculate the difference between their word usage using `frequency_comparison` on both `TextSample`'s `word_count_frequency` attributes. Save that into a variable called `word_count_similarity`.\n",
    "- Calculate the difference between their two-word ngram using `frequency_table` on both `TextSample`'s `ngram_frequency` attributes. Save that into a variable called `ngram_similarity`.\n",
    "- Add all three similarities together and divide by 3."
   ]
  },
  {
   "cell_type": "code",
   "execution_count": 319,
   "metadata": {},
   "outputs": [],
   "source": [
    "def find_text_similarity(text_sample1, text_sample2):\n",
    "    sentence_length_difference = percent_difference(text_sample1.average_sentence_length, \n",
    "                                                    text_sample2.average_sentence_length)\n",
    "    sentence_length_similarity = abs(1 - sentence_length_difference)\n",
    "    \n",
    "    word_count_similarity = frequency_comparison(text_sample1.word_count_frequency,\n",
    "                                                 text_sample2.word_count_frequency)\n",
    "    ngram_similarity = frequency_comparison(text_sample1.ngram_frequency,\n",
    "                                            text_sample2.ngram_frequency)\n",
    "\n",
    "    return (sentence_length_similarity + word_count_similarity + ngram_similarity)/ 3.0\n",
    " "
   ]
  },
  {
   "cell_type": "markdown",
   "metadata": {},
   "source": [
    "## Rendering the Results\n",
    "\n",
    "We want to print out the results in a way that we can read! For each contestant on _A Brand New Jay_ print out the following:\n",
    "\n",
    "- Their name\n",
    "- Their similarity score to the murder letter"
   ]
  },
  {
   "cell_type": "code",
   "execution_count": 320,
   "metadata": {
    "scrolled": false
   },
   "outputs": [
    {
     "name": "stdout",
     "output_type": "stream",
     "text": [
      "Lily 0.33000415617427165\n",
      "Myrtle 0.0686405860875762\n",
      "Gregg 0.23838808894909494\n"
     ]
    }
   ],
   "source": [
    "print(lily_sample.author, find_text_similarity(lily_sample, murderer_sample))\n",
    "print(myrtle_sample.author, find_text_similarity(myrtle_sample, murderer_sample))\n",
    "print(gregg_sample.author, find_text_similarity(gregg_sample, murderer_sample))"
   ]
  },
  {
   "cell_type": "markdown",
   "metadata": {},
   "source": [
    "# Who Dunnit?\n",
    "\n",
    "In the cell below, print the name of the person who killed Jay Stacksby."
   ]
  },
  {
   "cell_type": "code",
   "execution_count": 322,
   "metadata": {},
   "outputs": [
    {
     "name": "stdout",
     "output_type": "stream",
     "text": [
      "Lily\n"
     ]
    }
   ],
   "source": [
    "def find_murderer(murderer_sample, person_samples):\n",
    "    murderer = ''\n",
    "    score = 0.0\n",
    "    for person in person_samples:\n",
    "        similarity_score = find_text_similarity(person, murderer_sample)\n",
    "        if similarity_score > score:\n",
    "            murderer = person.author\n",
    "            score = similarity_score\n",
    "    \n",
    "    print(murderer)\n",
    "    \n",
    "find_murderer(murderer_sample, [lily_sample, myrtle_sample, gregg_sample])"
   ]
  },
  {
   "cell_type": "code",
   "execution_count": null,
   "metadata": {},
   "outputs": [],
   "source": []
  }
 ],
 "metadata": {
  "kernelspec": {
   "display_name": "Python 3",
   "language": "python",
   "name": "python3"
  },
  "language_info": {
   "codemirror_mode": {
    "name": "ipython",
    "version": 3
   },
   "file_extension": ".py",
   "mimetype": "text/x-python",
   "name": "python",
   "nbconvert_exporter": "python",
   "pygments_lexer": "ipython3",
   "version": "3.6.5"
  }
 },
 "nbformat": 4,
 "nbformat_minor": 2
}
